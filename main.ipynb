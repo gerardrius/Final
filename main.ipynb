{
 "cells": [
  {
   "cell_type": "code",
   "execution_count": 1,
   "metadata": {},
   "outputs": [],
   "source": [
    "import pandas as pd\n",
    "import numpy as np\n",
    "\n",
    "import seaborn as sns\n",
    "import matplotlib.pyplot as plt\n",
    "import plotly.express as px\n",
    "import folium\n",
    "import folium.plugins\n",
    "from folium import Figure\n",
    "from folium.plugins import HeatMapWithTime\n",
    "from datetime import datetime, timedelta\n",
    "\n",
    "# For real distance\n",
    "import osmnx as ox\n",
    "import networkx as nx\n",
    "\n",
    "import src.cleaning as cleaning\n",
    "import src.visualizations as vis"
   ]
  },
  {
   "cell_type": "code",
   "execution_count": 5,
   "metadata": {},
   "outputs": [],
   "source": [
    "# Sample to test functions:\n",
    "apr_14 = pd.read_csv('../../../Desktop/final_project_data/2014/2014-04 - Citi Bike trip data.csv')"
   ]
  },
  {
   "attachments": {},
   "cell_type": "markdown",
   "metadata": {},
   "source": [
    "# 1. CLEANING PROCESS"
   ]
  },
  {
   "attachments": {},
   "cell_type": "markdown",
   "metadata": {},
   "source": [
    "# Rename columns"
   ]
  },
  {
   "cell_type": "code",
   "execution_count": 6,
   "metadata": {},
   "outputs": [],
   "source": [
    "apr_14 = cleaning.rename_columns(apr_14)"
   ]
  },
  {
   "attachments": {},
   "cell_type": "markdown",
   "metadata": {},
   "source": [
    "#  Straight line Distance"
   ]
  },
  {
   "cell_type": "code",
   "execution_count": 7,
   "metadata": {},
   "outputs": [],
   "source": [
    "apr_14 = cleaning.trip_distance(apr_14)"
   ]
  },
  {
   "attachments": {},
   "cell_type": "markdown",
   "metadata": {},
   "source": [
    "# Hour: start_hour & end_hour (same function, 2 columns)\n",
    "\n",
    "- Integer value for the hour, e.g. 12, 18."
   ]
  },
  {
   "cell_type": "code",
   "execution_count": 8,
   "metadata": {},
   "outputs": [],
   "source": [
    "apr_14 = cleaning.get_hour (apr_14)"
   ]
  },
  {
   "attachments": {},
   "cell_type": "markdown",
   "metadata": {},
   "source": [
    "# Date: trip_date\n",
    "- time series date format for date, including year, month and day, and excluding hour, minute and second."
   ]
  },
  {
   "cell_type": "code",
   "execution_count": 9,
   "metadata": {},
   "outputs": [],
   "source": [
    "apr_14 = cleaning.get_date (apr_14)"
   ]
  },
  {
   "attachments": {},
   "cell_type": "markdown",
   "metadata": {},
   "source": [
    "# Formatting: started_at and ended_at in datetime format"
   ]
  },
  {
   "cell_type": "code",
   "execution_count": 10,
   "metadata": {},
   "outputs": [],
   "source": [
    "apr_14 = cleaning.datetime_format (apr_14)"
   ]
  },
  {
   "attachments": {},
   "cell_type": "markdown",
   "metadata": {},
   "source": [
    "#  Month, weekday, weekend"
   ]
  },
  {
   "cell_type": "code",
   "execution_count": 11,
   "metadata": {},
   "outputs": [],
   "source": [
    "apr_14 = cleaning.get_categorical_date (apr_14)"
   ]
  },
  {
   "attachments": {},
   "cell_type": "markdown",
   "metadata": {},
   "source": [
    "# Cleaned and enriched dataframe to CSV"
   ]
  },
  {
   "cell_type": "code",
   "execution_count": 12,
   "metadata": {},
   "outputs": [],
   "source": [
    "apr_14.to_csv('data/april_2014.csv', index=False)"
   ]
  },
  {
   "cell_type": "code",
   "execution_count": 13,
   "metadata": {},
   "outputs": [],
   "source": [
    "april_14 = pd.read_csv('data/april_2014.csv')"
   ]
  },
  {
   "attachments": {},
   "cell_type": "markdown",
   "metadata": {},
   "source": [
    "# Open Street Map: real_distance\n",
    "### Function to create subdataframes and save them as csv."
   ]
  },
  {
   "cell_type": "code",
   "execution_count": 14,
   "metadata": {},
   "outputs": [],
   "source": [
    "# in Collab\n",
    "\n",
    "# cleaning.dataframe_split (df, n): Splits the dataframe in n subdataframes to make it more processable.\n",
    "# cleaning.get_real_distance (df): uses osmnx and networkx to compute the shortest available path distance."
   ]
  },
  {
   "attachments": {},
   "cell_type": "markdown",
   "metadata": {},
   "source": [
    "# rideable_type"
   ]
  },
  {
   "cell_type": "code",
   "execution_count": 15,
   "metadata": {},
   "outputs": [],
   "source": [
    "# Infer from 2022 datasets."
   ]
  },
  {
   "attachments": {},
   "cell_type": "markdown",
   "metadata": {},
   "source": [
    "# trip_cost ()\n",
    "\n",
    "¡You need to get bike type before!\n",
    "\n",
    "- float $ value in function of rideable_type, duration and member_casual.\n",
    "\n",
    "Subscriber\n",
    "- Classic.\n",
    "If trip_duration < 45*60, cost = 0\n",
    "Elif trip_duration > 45*60, cost = (trip_duration - 45 * 60) / 60 * 0.17\n",
    "\n",
    "- Electric\n",
    "If trip_duration =< 45*60: cost = trip_duration / 60 * 0.17, limit 3.\n",
    "If trip_duration > 45*60: cost = 3 + (trip_duration - 45 * 60) / 60 * 0.17\n",
    "\n",
    "Casual\n",
    "- Single trip \n",
    "    - Casual & - Electric\n",
    "    If trip_duration <= 30*60 -> 4.49\n",
    "    Elif trip_duration > 30 * 60 -> 4.49 + (trip_duration - 30 * 60) / 60 * 0.26\n",
    "\n",
    "- Day Pass\n",
    "    - Casual \n",
    "    - Electric"
   ]
  },
  {
   "cell_type": "code",
   "execution_count": 16,
   "metadata": {},
   "outputs": [],
   "source": [
    "# need to know rideable type."
   ]
  },
  {
   "attachments": {},
   "cell_type": "markdown",
   "metadata": {},
   "source": [
    "# Station non-bike trips balance"
   ]
  },
  {
   "attachments": {},
   "cell_type": "markdown",
   "metadata": {},
   "source": [
    "## Bike Route (not by human usage):\n",
    "\n",
    "All bikes journey function includes bike route function."
   ]
  },
  {
   "cell_type": "code",
   "execution_count": 17,
   "metadata": {},
   "outputs": [],
   "source": [
    "all_bikes_journey_list = cleaning.all_bikes_journey (april_14)"
   ]
  },
  {
   "attachments": {},
   "cell_type": "markdown",
   "metadata": {},
   "source": [
    "## Non user trip mobility dictionary and information:\n",
    "\n",
    "### Three functions that enrich a dictionary containing all info regarding mobility from one station to another through trucks."
   ]
  },
  {
   "cell_type": "code",
   "execution_count": 18,
   "metadata": {},
   "outputs": [],
   "source": [
    "stations_transfers_dictionary = cleaning.non_trip_mobility_dict (apr_14)\n",
    "stations_transfers_dictionary = cleaning.transportations (stations_transfers_dictionary, all_bikes_journey_list)\n",
    "stations_transfers_dictionary = cleaning.station_balance (stations_transfers_dictionary)"
   ]
  },
  {
   "attachments": {},
   "cell_type": "markdown",
   "metadata": {},
   "source": [
    "# Truck trips\n",
    "\n",
    "Record all bike movements not attributable to user trips.\n",
    "- Bike ID\n",
    "- Date range\n",
    "- Transported from\n",
    "- Transported to\n",
    "\n",
    "Sort by date, group by station.\n",
    "\n",
    "### All transfers use single bike truck transfers function:"
   ]
  },
  {
   "cell_type": "code",
   "execution_count": 20,
   "metadata": {},
   "outputs": [],
   "source": [
    "total_transfers = cleaning.all_transfers (april_14)"
   ]
  },
  {
   "cell_type": "code",
   "execution_count": 23,
   "metadata": {},
   "outputs": [],
   "source": [
    "total_transfers = cleaning.datetime_format_trucks (total_transfers)"
   ]
  },
  {
   "cell_type": "code",
   "execution_count": 27,
   "metadata": {},
   "outputs": [],
   "source": [
    "total_transfers.to_csv('data/truck_transfers.csv', index=False)"
   ]
  },
  {
   "attachments": {},
   "cell_type": "markdown",
   "metadata": {},
   "source": [
    "# 2. Visualizations"
   ]
  },
  {
   "cell_type": "code",
   "execution_count": 30,
   "metadata": {},
   "outputs": [],
   "source": [
    "# Functions defined in source folder, deployed in streamlit app."
   ]
  },
  {
   "cell_type": "code",
   "execution_count": 1,
   "metadata": {},
   "outputs": [],
   "source": [
    "# Hourly distribution by day:\n",
    "def hourly_dist (df, day):\n",
    "    test_map_viz = df[['start_hour', 'started_at', 'bike_id', 'start_lat', 'start_lng', 'weekday']]\n",
    "    test_map_viz = test_map_viz[test_map_viz['weekday'] == day]\n",
    "\n",
    "    lat_lng_list = []\n",
    "    for i in range(24):\n",
    "        temp=[]\n",
    "        for index, row in test_map_viz[test_map_viz['start_hour'] == i].iterrows():\n",
    "            temp.append([row['start_lat'],row['start_lng']])\n",
    "        lat_lng_list.append(temp)\n",
    "\n",
    "    figure1 = Figure(width=850,height=550)\n",
    "    new_york1 = folium.Map(location=[40.712776, -74.005974],zoom_start=12)\n",
    "\n",
    "    figure1.add_child(new_york1)\n",
    "    folium.TileLayer('cartodbpositron').add_to(new_york1)\n",
    "    gradient = {.33: 'white', .66: 'lightblue', 1: 'blue'}\n",
    "\n",
    "    HeatMapWithTime(lat_lng_list, radius=5, auto_play=True, position='bottomright', gradient=gradient).add_to(new_york1)\n",
    "\n",
    "    return figure1"
   ]
  },
  {
   "cell_type": "code",
   "execution_count": null,
   "metadata": {},
   "outputs": [],
   "source": [
    "hourly_dist (april_14, 'Monday')"
   ]
  },
  {
   "attachments": {},
   "cell_type": "markdown",
   "metadata": {},
   "source": [
    "# 3. Your Trip"
   ]
  },
  {
   "cell_type": "code",
   "execution_count": 2,
   "metadata": {},
   "outputs": [],
   "source": [
    "trucks = pd.read_csv('data/truck_transfers.csv')\n",
    "april = pd.read_csv('data/april_2014.csv')"
   ]
  },
  {
   "cell_type": "code",
   "execution_count": 3,
   "metadata": {},
   "outputs": [
    {
     "name": "stderr",
     "output_type": "stream",
     "text": [
      "/Users/gerardrius/Ironhack/projects/Final/src/cleaning.py:452: FutureWarning: Inferring datetime64[ns] from data containing strings is deprecated and will be removed in a future version. To retain the old behavior explicitly pass Series(data, dtype=datetime64[ns])\n",
      "  result_df = pd.DataFrame({'last_end': last_end, 'ended_at': etime, 'next_start': next_start, 'started_at': stime})\n"
     ]
    }
   ],
   "source": [
    "ALL_TRIPS = cleaning.concat_all_bike_trips (april)"
   ]
  },
  {
   "cell_type": "code",
   "execution_count": 4,
   "metadata": {},
   "outputs": [],
   "source": [
    "ALL_TRIPS.to_csv('data/all_trips.csv', index = False)"
   ]
  },
  {
   "cell_type": "code",
   "execution_count": 2,
   "metadata": {},
   "outputs": [],
   "source": [
    "ALL_TRIPS = pd.read_csv('data/all_trips.csv')"
   ]
  },
  {
   "cell_type": "code",
   "execution_count": 3,
   "metadata": {},
   "outputs": [],
   "source": [
    "capacity_dict = cleaning.capacity_dictionary (ALL_TRIPS)"
   ]
  },
  {
   "cell_type": "code",
   "execution_count": 4,
   "metadata": {},
   "outputs": [
    {
     "data": {
      "text/plain": [
       "{519.0: 50.0,\n",
       " 521.0: 200.0,\n",
       " 497.0: 40.0,\n",
       " 293.0: 50.0,\n",
       " 435.0: 30.0,\n",
       " 285.0: 40.0,\n",
       " 477.0: 50.0,\n",
       " 426.0: 30.0,\n",
       " 490.0: 70.0,\n",
       " 402.0: 30.0,\n",
       " 379.0: 60.0,\n",
       " 492.0: 50.0,\n",
       " 499.0: 40.0,\n",
       " 151.0: 30.0,\n",
       " 444.0: 40.0,\n",
       " 368.0: 40.0,\n",
       " 318.0: 30.0,\n",
       " 382.0: 40.0,\n",
       " 284.0: 40.0,\n",
       " 358.0: 40.0,\n",
       " 168.0: 40.0,\n",
       " 504.0: 40.0,\n",
       " 347.0: 30.0,\n",
       " 523.0: 40.0,\n",
       " 465.0: 20,\n",
       " 462.0: 40.0,\n",
       " 509.0: 40.0,\n",
       " 488.0: 40.0,\n",
       " 127.0: 40.0,\n",
       " 457.0: 40.0,\n",
       " 327.0: 40.0,\n",
       " 445.0: 70.0,\n",
       " 281.0: 30.0,\n",
       " 540.0: 30.0,\n",
       " 442.0: 20,\n",
       " 483.0: 50.0,\n",
       " 116.0: 30.0,\n",
       " 528.0: 40.0,\n",
       " 459.0: 30.0,\n",
       " 387.0: 30.0,\n",
       " 375.0: 30.0,\n",
       " 348.0: 40.0,\n",
       " 380.0: 40.0,\n",
       " 446.0: 30.0,\n",
       " 537.0: 30.0,\n",
       " 472.0: 30.0,\n",
       " 237.0: 40.0,\n",
       " 294.0: 30.0,\n",
       " 229.0: 30.0,\n",
       " 417.0: 40.0,\n",
       " 496.0: 30.0,\n",
       " 453.0: 40.0,\n",
       " 505.0: 30.0,\n",
       " 161.0: 30.0,\n",
       " 236.0: 50.0,\n",
       " 432.0: 40.0,\n",
       " 251.0: 30.0,\n",
       " 404.0: 30.0,\n",
       " 3002.0: 30.0,\n",
       " 345.0: 30.0,\n",
       " 493.0: 20,\n",
       " 527.0: 50.0,\n",
       " 529.0: 60.0,\n",
       " 153.0: 20,\n",
       " 518.0: 40.0,\n",
       " 147.0: 30.0,\n",
       " 503.0: 30.0,\n",
       " 401.0: 50.0,\n",
       " 514.0: 50.0,\n",
       " 498.0: 20,\n",
       " 461.0: 40.0,\n",
       " 433.0: 50.0,\n",
       " 466.0: 30.0,\n",
       " 463.0: 20,\n",
       " 334.0: 30.0,\n",
       " 428.0: 30.0,\n",
       " 212.0: 20,\n",
       " 474.0: 20,\n",
       " 482.0: 40.0,\n",
       " 494.0: 30.0,\n",
       " 173.0: 20,\n",
       " 486.0: 20,\n",
       " 476.0: 40.0,\n",
       " 479.0: 30.0,\n",
       " 167.0: 20,\n",
       " 312.0: 30.0,\n",
       " 545.0: 30.0,\n",
       " 336.0: 30.0,\n",
       " 410.0: 40.0,\n",
       " 305.0: 30.0,\n",
       " 2006.0: 30.0,\n",
       " 546.0: 30.0,\n",
       " 450.0: 20,\n",
       " 439.0: 40.0,\n",
       " 447.0: 20,\n",
       " 325.0: 40.0,\n",
       " 300.0: 50.0,\n",
       " 526.0: 30.0,\n",
       " 491.0: 20,\n",
       " 405.0: 40.0,\n",
       " 326.0: 30.0,\n",
       " 422.0: 50.0,\n",
       " 352.0: 20,\n",
       " 174.0: 40.0,\n",
       " 531.0: 40.0,\n",
       " 359.0: 30.0,\n",
       " 517.0: 50.0,\n",
       " 484.0: 20,\n",
       " 2003.0: 30.0,\n",
       " 515.0: 40.0,\n",
       " 307.0: 30.0,\n",
       " 438.0: 30.0,\n",
       " 250.0: 20,\n",
       " 361.0: 40.0,\n",
       " 223.0: 30.0,\n",
       " 448.0: 30.0,\n",
       " 468.0: 20,\n",
       " 335.0: 20,\n",
       " 2021.0: 20,\n",
       " 346.0: 30.0,\n",
       " 478.0: 40.0,\n",
       " 2004.0: 30.0,\n",
       " 164.0: 30.0,\n",
       " 500.0: 30.0,\n",
       " 510.0: 20,\n",
       " 329.0: 20,\n",
       " 388.0: 30.0,\n",
       " 72.0: 40.0,\n",
       " 470.0: 40.0,\n",
       " 536.0: 30.0,\n",
       " 267.0: 30.0,\n",
       " 403.0: 30.0,\n",
       " 301.0: 40.0,\n",
       " 195.0: 20,\n",
       " 383.0: 20,\n",
       " 357.0: 30.0,\n",
       " 280.0: 30.0,\n",
       " 533.0: 20,\n",
       " 511.0: 40.0,\n",
       " 363.0: 50.0,\n",
       " 2010.0: 40.0,\n",
       " 254.0: 30.0,\n",
       " 268.0: 30.0,\n",
       " 394.0: 40.0,\n",
       " 487.0: 40.0,\n",
       " 538.0: 20,\n",
       " 263.0: 30.0,\n",
       " 306.0: 40.0,\n",
       " 303.0: 30.0,\n",
       " 485.0: 20,\n",
       " 265.0: 40.0,\n",
       " 458.0: 20,\n",
       " 434.0: 30.0,\n",
       " 252.0: 30.0,\n",
       " 512.0: 30.0,\n",
       " 228.0: 30.0,\n",
       " 304.0: 20,\n",
       " 489.0: 30.0,\n",
       " 369.0: 40.0,\n",
       " 355.0: 40.0,\n",
       " 495.0: 20,\n",
       " 328.0: 20,\n",
       " 377.0: 30.0,\n",
       " 2012.0: 30.0,\n",
       " 225.0: 40.0,\n",
       " 290.0: 30.0,\n",
       " 257.0: 30.0,\n",
       " 501.0: 40.0,\n",
       " 455.0: 20,\n",
       " 473.0: 40.0,\n",
       " 513.0: 20,\n",
       " 469.0: 20,\n",
       " 247.0: 20,\n",
       " 522.0: 30.0,\n",
       " 532.0: 40.0,\n",
       " 440.0: 20,\n",
       " 427.0: 30.0,\n",
       " 79.0: 30.0,\n",
       " 415.0: 30.0,\n",
       " 315.0: 30.0,\n",
       " 362.0: 20,\n",
       " 480.0: 30.0,\n",
       " 137.0: 20,\n",
       " 520.0: 20,\n",
       " 238.0: 30.0,\n",
       " 311.0: 30.0,\n",
       " 309.0: 40.0,\n",
       " 386.0: 30.0,\n",
       " 412.0: 20,\n",
       " 508.0: 20,\n",
       " 146.0: 20,\n",
       " 393.0: 30.0,\n",
       " 319.0: 30.0,\n",
       " 160.0: 20,\n",
       " 264.0: 20,\n",
       " 502.0: 30.0,\n",
       " 376.0: 30.0,\n",
       " 330.0: 30.0,\n",
       " 367.0: 20,\n",
       " 316.0: 20,\n",
       " 430.0: 20,\n",
       " 351.0: 40.0,\n",
       " 2002.0: 30.0,\n",
       " 525.0: 30.0,\n",
       " 224.0: 30.0,\n",
       " 296.0: 30.0,\n",
       " 2008.0: 20,\n",
       " 233.0: 40.0,\n",
       " 350.0: 30.0,\n",
       " 449.0: 20,\n",
       " 360.0: 20,\n",
       " 464.0: 50.0,\n",
       " 295.0: 30.0,\n",
       " 539.0: 30.0,\n",
       " 456.0: 20,\n",
       " 2022.0: 30.0,\n",
       " 317.0: 40.0,\n",
       " 385.0: 30.0,\n",
       " 271.0: 40.0,\n",
       " 217.0: 40.0,\n",
       " 276.0: 30.0,\n",
       " 2000.0: 30.0,\n",
       " 349.0: 30.0,\n",
       " 308.0: 30.0,\n",
       " 259.0: 30.0,\n",
       " 423.0: 20,\n",
       " 310.0: 40.0,\n",
       " 454.0: 30.0,\n",
       " 249.0: 20,\n",
       " 152.0: 30.0,\n",
       " 320.0: 30.0,\n",
       " 150.0: 30.0,\n",
       " 337.0: 30.0,\n",
       " 2023.0: 20,\n",
       " 366.0: 30.0,\n",
       " 2009.0: 30.0,\n",
       " 324.0: 40.0,\n",
       " 406.0: 40.0,\n",
       " 441.0: 30.0,\n",
       " 516.0: 30.0,\n",
       " 534.0: 20,\n",
       " 157.0: 30.0,\n",
       " 356.0: 30.0,\n",
       " 342.0: 30.0,\n",
       " 302.0: 30.0,\n",
       " 411.0: 30.0,\n",
       " 340.0: 30.0,\n",
       " 291.0: 20,\n",
       " 467.0: 40.0,\n",
       " 322.0: 30.0,\n",
       " 332.0: 30.0,\n",
       " 83.0: 40.0,\n",
       " 2017.0: 20,\n",
       " 475.0: 20,\n",
       " 398.0: 30.0,\n",
       " 323.0: 30.0,\n",
       " 392.0: 30.0,\n",
       " 341.0: 20,\n",
       " 414.0: 20,\n",
       " 260.0: 20,\n",
       " 395.0: 30.0,\n",
       " 266.0: 30.0,\n",
       " 239.0: 20,\n",
       " 82.0: 20,\n",
       " 143.0: 20,\n",
       " 314.0: 20,\n",
       " 408.0: 20,\n",
       " 481.0: 30.0,\n",
       " 270.0: 30.0,\n",
       " 261.0: 30.0,\n",
       " 331.0: 30.0,\n",
       " 384.0: 30.0,\n",
       " 391.0: 20,\n",
       " 274.0: 30.0,\n",
       " 416.0: 30.0,\n",
       " 248.0: 20,\n",
       " 460.0: 20,\n",
       " 389.0: 30.0,\n",
       " 471.0: 30.0,\n",
       " 507.0: 30.0,\n",
       " 232.0: 20,\n",
       " 400.0: 20,\n",
       " 258.0: 30.0,\n",
       " 313.0: 20,\n",
       " 244.0: 20,\n",
       " 241.0: 20,\n",
       " 243.0: 30.0,\n",
       " 128.0: 20,\n",
       " 407.0: 20,\n",
       " 354.0: 30.0,\n",
       " 390.0: 20,\n",
       " 365.0: 20,\n",
       " 418.0: 30.0,\n",
       " 353.0: 20,\n",
       " 262.0: 20,\n",
       " 282.0: 30.0,\n",
       " 344.0: 20,\n",
       " 420.0: 20,\n",
       " 275.0: 20,\n",
       " 399.0: 20,\n",
       " 373.0: 20,\n",
       " 396.0: 30.0,\n",
       " 397.0: 30.0,\n",
       " 242.0: 20,\n",
       " 339.0: 30.0,\n",
       " 216.0: 20,\n",
       " 437.0: 20,\n",
       " 530.0: 20,\n",
       " 364.0: 20,\n",
       " 343.0: 20,\n",
       " 218.0: 30.0,\n",
       " 279.0: 20,\n",
       " 421.0: 20,\n",
       " 298.0: 30.0,\n",
       " 144.0: 20,\n",
       " 120.0: 20,\n",
       " 436.0: 20,\n",
       " 278.0: 20,\n",
       " 409.0: 20,\n",
       " 253.0: 20,\n",
       " 245.0: 20,\n",
       " 419.0: 20,\n",
       " 443.0: nan,\n",
       " 289.0: nan,\n",
       " 2001.0: 20,\n",
       " 119.0: 20,\n",
       " 372.0: 20,\n",
       " 431.0: 20,\n",
       " 2005.0: 20,\n",
       " 321.0: 20}"
      ]
     },
     "execution_count": 4,
     "metadata": {},
     "output_type": "execute_result"
    }
   ],
   "source": [
    "# But this is an approx, precise in a daily scale.\n",
    "capacity_dict"
   ]
  },
  {
   "cell_type": "code",
   "execution_count": 40,
   "metadata": {},
   "outputs": [],
   "source": [
    "time_range = [dt.strftime('%Y-%m-%d T%H:%M') for dt in \n",
    "    cleaning.datetime_range(datetime(2014, 4, 1, 0), datetime(2014, 5, 1, 0, 5), \n",
    "    timedelta(minutes=15))]"
   ]
  },
  {
   "cell_type": "code",
   "execution_count": 47,
   "metadata": {},
   "outputs": [],
   "source": [
    "def station_load_time_series (df, id):\n",
    "    id_starts = []\n",
    "    id_ends = []\n",
    "\n",
    "    for date in time_range:\n",
    "        date_time_obj = datetime.strptime(date, '%Y-%m-%d T%H:%M')\n",
    "\n",
    "        ends = df[(df['ended_at'] <= date_time_obj) & (df['last_end'] == id)].last_end.value_counts().to_frame().reset_index().rename(columns = {'index': 'id', 'last_end': 'counts'})\n",
    "        starts = df[(df['started_at'] <= date_time_obj)& (df['next_start'] == id)].next_start.value_counts().to_frame().reset_index().rename(columns = {'index': 'id', 'next_start': 'counts'})\n",
    "        \n",
    "        try:\n",
    "            id_starts.append(starts.iloc[0]['counts'])\n",
    "            id_ends.append(ends.iloc[0]['counts'])\n",
    "        except:\n",
    "            id_starts.append(0)\n",
    "            id_ends.append(0)\n",
    "\n",
    "    station_load = pd.DataFrame({'ends': id_ends, 'starts': id_starts})\n",
    "    station_load['bikes_in_station'] = station_load['ends'] - station_load['starts']\n",
    "    return station_load"
   ]
  },
  {
   "cell_type": "code",
   "execution_count": null,
   "metadata": {},
   "outputs": [],
   "source": [
    "def station_capacity_accurate ()"
   ]
  },
  {
   "cell_type": "code",
   "execution_count": 49,
   "metadata": {},
   "outputs": [],
   "source": [
    "a = station_load_time_series (ALL_TRIPS, 519)"
   ]
  },
  {
   "cell_type": "code",
   "execution_count": 52,
   "metadata": {},
   "outputs": [
    {
     "data": {
      "text/plain": [
       "64.0"
      ]
     },
     "execution_count": 52,
     "metadata": {},
     "output_type": "execute_result"
    }
   ],
   "source": [
    "a.bikes_in_station.max()"
   ]
  },
  {
   "cell_type": "code",
   "execution_count": null,
   "metadata": {},
   "outputs": [],
   "source": []
  }
 ],
 "metadata": {
  "kernelspec": {
   "display_name": "streamlit",
   "language": "python",
   "name": "python3"
  },
  "language_info": {
   "codemirror_mode": {
    "name": "ipython",
    "version": 3
   },
   "file_extension": ".py",
   "mimetype": "text/x-python",
   "name": "python",
   "nbconvert_exporter": "python",
   "pygments_lexer": "ipython3",
   "version": "3.10.4"
  },
  "orig_nbformat": 4,
  "vscode": {
   "interpreter": {
    "hash": "84e87d28c5bed529ff86c4920d9f833c63e26dbaf53d0d7be4a47960d95f9549"
   }
  }
 },
 "nbformat": 4,
 "nbformat_minor": 2
}
