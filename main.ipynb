{
 "cells": [
  {
   "cell_type": "code",
   "execution_count": 2,
   "metadata": {},
   "outputs": [],
   "source": [
    "import pandas as pd\n",
    "import numpy as np\n",
    "\n",
    "import seaborn as sns\n",
    "import matplotlib.pyplot as plt\n",
    "import plotly.express as px\n",
    "import folium\n",
    "import folium.plugins\n",
    "from folium import Figure\n",
    "from folium.plugins import HeatMapWithTime\n",
    "\n",
    "# For real distance\n",
    "import osmnx as ox\n",
    "import networkx as nx\n",
    "\n",
    "import src.cleaning as cleaning\n",
    "import src.visualizations as vis"
   ]
  },
  {
   "cell_type": "code",
   "execution_count": 5,
   "metadata": {},
   "outputs": [],
   "source": [
    "# Sample to test functions:\n",
    "apr_14 = pd.read_csv('../../../Desktop/final_project_data/2014/2014-04 - Citi Bike trip data.csv')"
   ]
  },
  {
   "attachments": {},
   "cell_type": "markdown",
   "metadata": {},
   "source": [
    "# 1. CLEANING PROCESS"
   ]
  },
  {
   "attachments": {},
   "cell_type": "markdown",
   "metadata": {},
   "source": [
    "# Rename columns"
   ]
  },
  {
   "cell_type": "code",
   "execution_count": 6,
   "metadata": {},
   "outputs": [],
   "source": [
    "apr_14 = cleaning.rename_columns(apr_14)"
   ]
  },
  {
   "attachments": {},
   "cell_type": "markdown",
   "metadata": {},
   "source": [
    "#  Straight line Distance"
   ]
  },
  {
   "cell_type": "code",
   "execution_count": 7,
   "metadata": {},
   "outputs": [],
   "source": [
    "apr_14 = cleaning.trip_distance(apr_14)"
   ]
  },
  {
   "attachments": {},
   "cell_type": "markdown",
   "metadata": {},
   "source": [
    "# Hour: start_hour & end_hour (same function, 2 columns)\n",
    "\n",
    "- Integer value for the hour, e.g. 12, 18."
   ]
  },
  {
   "cell_type": "code",
   "execution_count": 8,
   "metadata": {},
   "outputs": [],
   "source": [
    "apr_14 = cleaning.get_hour (apr_14)"
   ]
  },
  {
   "attachments": {},
   "cell_type": "markdown",
   "metadata": {},
   "source": [
    "# Date: trip_date\n",
    "- time series date format for date, including year, month and day, and excluding hour, minute and second."
   ]
  },
  {
   "cell_type": "code",
   "execution_count": 9,
   "metadata": {},
   "outputs": [],
   "source": [
    "apr_14 = cleaning.get_date (apr_14)"
   ]
  },
  {
   "attachments": {},
   "cell_type": "markdown",
   "metadata": {},
   "source": [
    "# Formatting: started_at and ended_at in datetime format"
   ]
  },
  {
   "cell_type": "code",
   "execution_count": 10,
   "metadata": {},
   "outputs": [],
   "source": [
    "apr_14 = cleaning.datetime_format (apr_14)"
   ]
  },
  {
   "attachments": {},
   "cell_type": "markdown",
   "metadata": {},
   "source": [
    "#  Month, weekday, weekend"
   ]
  },
  {
   "cell_type": "code",
   "execution_count": 11,
   "metadata": {},
   "outputs": [],
   "source": [
    "apr_14 = cleaning.get_categorical_date (apr_14)"
   ]
  },
  {
   "attachments": {},
   "cell_type": "markdown",
   "metadata": {},
   "source": [
    "# Cleaned and enriched dataframe to CSV"
   ]
  },
  {
   "cell_type": "code",
   "execution_count": 12,
   "metadata": {},
   "outputs": [],
   "source": [
    "apr_14.to_csv('data/april_2014.csv', index=False)"
   ]
  },
  {
   "cell_type": "code",
   "execution_count": 13,
   "metadata": {},
   "outputs": [],
   "source": [
    "april_14 = pd.read_csv('data/april_2014.csv')"
   ]
  },
  {
   "attachments": {},
   "cell_type": "markdown",
   "metadata": {},
   "source": [
    "# Open Street Map: real_distance\n",
    "### Function to create subdataframes and save them as csv."
   ]
  },
  {
   "cell_type": "code",
   "execution_count": 14,
   "metadata": {},
   "outputs": [],
   "source": [
    "# in Collab\n",
    "\n",
    "# cleaning.dataframe_split (df, n): Splits the dataframe in n subdataframes to make it more processable.\n",
    "# cleaning.get_real_distance (df): uses osmnx and networkx to compute the shortest available path distance."
   ]
  },
  {
   "attachments": {},
   "cell_type": "markdown",
   "metadata": {},
   "source": [
    "# rideable_type"
   ]
  },
  {
   "cell_type": "code",
   "execution_count": 15,
   "metadata": {},
   "outputs": [],
   "source": [
    "# Infer from 2022 datasets."
   ]
  },
  {
   "attachments": {},
   "cell_type": "markdown",
   "metadata": {},
   "source": [
    "# trip_cost ()\n",
    "\n",
    "¡You need to get bike type before!\n",
    "\n",
    "- float $ value in function of rideable_type, duration and member_casual.\n",
    "\n",
    "Subscriber\n",
    "- Classic.\n",
    "If trip_duration < 45*60, cost = 0\n",
    "Elif trip_duration > 45*60, cost = (trip_duration - 45 * 60) / 60 * 0.17\n",
    "\n",
    "- Electric\n",
    "If trip_duration =< 45*60: cost = trip_duration / 60 * 0.17, limit 3.\n",
    "If trip_duration > 45*60: cost = 3 + (trip_duration - 45 * 60) / 60 * 0.17\n",
    "\n",
    "Casual\n",
    "- Single trip \n",
    "    - Casual & - Electric\n",
    "    If trip_duration <= 30*60 -> 4.49\n",
    "    Elif trip_duration > 30 * 60 -> 4.49 + (trip_duration - 30 * 60) / 60 * 0.26\n",
    "\n",
    "- Day Pass\n",
    "    - Casual \n",
    "    - Electric"
   ]
  },
  {
   "cell_type": "code",
   "execution_count": 16,
   "metadata": {},
   "outputs": [],
   "source": [
    "# need to know rideable type."
   ]
  },
  {
   "attachments": {},
   "cell_type": "markdown",
   "metadata": {},
   "source": [
    "# Station non-bike trips balance"
   ]
  },
  {
   "attachments": {},
   "cell_type": "markdown",
   "metadata": {},
   "source": [
    "## Bike Route (not by human usage):\n",
    "\n",
    "All bikes journey function includes bike route function."
   ]
  },
  {
   "cell_type": "code",
   "execution_count": 17,
   "metadata": {},
   "outputs": [],
   "source": [
    "all_bikes_journey_list = cleaning.all_bikes_journey (april_14)"
   ]
  },
  {
   "attachments": {},
   "cell_type": "markdown",
   "metadata": {},
   "source": [
    "## Non user trip mobility dictionary and information:\n",
    "\n",
    "### Three functions that enrich a dictionary containing all info regarding mobility from one station to another through trucks."
   ]
  },
  {
   "cell_type": "code",
   "execution_count": 18,
   "metadata": {},
   "outputs": [],
   "source": [
    "stations_transfers_dictionary = cleaning.non_trip_mobility_dict (apr_14)\n",
    "stations_transfers_dictionary = cleaning.transportations (stations_transfers_dictionary, all_bikes_journey_list)\n",
    "stations_transfers_dictionary = cleaning.station_balance (stations_transfers_dictionary)"
   ]
  },
  {
   "attachments": {},
   "cell_type": "markdown",
   "metadata": {},
   "source": [
    "# Truck trips\n",
    "\n",
    "Record all bike movements not attributable to user trips.\n",
    "- Bike ID\n",
    "- Date range\n",
    "- Transported from\n",
    "- Transported to\n",
    "\n",
    "Sort by date, group by station.\n",
    "\n",
    "### All transfers use single bike truck transfers function:"
   ]
  },
  {
   "cell_type": "code",
   "execution_count": 20,
   "metadata": {},
   "outputs": [],
   "source": [
    "total_transfers = cleaning.all_transfers (april_14)"
   ]
  },
  {
   "cell_type": "code",
   "execution_count": 23,
   "metadata": {},
   "outputs": [],
   "source": [
    "total_transfers = cleaning.datetime_format_trucks (total_transfers)"
   ]
  },
  {
   "cell_type": "code",
   "execution_count": 27,
   "metadata": {},
   "outputs": [],
   "source": [
    "total_transfers.to_csv('data/truck_transfers.csv', index=False)"
   ]
  },
  {
   "attachments": {},
   "cell_type": "markdown",
   "metadata": {},
   "source": [
    "# 2. Visualizations"
   ]
  },
  {
   "cell_type": "code",
   "execution_count": 30,
   "metadata": {},
   "outputs": [],
   "source": [
    "# Functions defined in source folder, deployed in streamlit app."
   ]
  },
  {
   "cell_type": "code",
   "execution_count": 1,
   "metadata": {},
   "outputs": [],
   "source": [
    "# Hourly distribution by day:\n",
    "def hourly_dist (df, day):\n",
    "    test_map_viz = df[['start_hour', 'started_at', 'bike_id', 'start_lat', 'start_lng', 'weekday']]\n",
    "    test_map_viz = test_map_viz[test_map_viz['weekday'] == day]\n",
    "\n",
    "    lat_lng_list = []\n",
    "    for i in range(24):\n",
    "        temp=[]\n",
    "        for index, row in test_map_viz[test_map_viz['start_hour'] == i].iterrows():\n",
    "            temp.append([row['start_lat'],row['start_lng']])\n",
    "        lat_lng_list.append(temp)\n",
    "\n",
    "    figure1 = Figure(width=850,height=550)\n",
    "    new_york1 = folium.Map(location=[40.712776, -74.005974],zoom_start=12)\n",
    "\n",
    "    figure1.add_child(new_york1)\n",
    "    folium.TileLayer('cartodbpositron').add_to(new_york1)\n",
    "    gradient = {.33: 'white', .66: 'lightblue', 1: 'blue'}\n",
    "\n",
    "    HeatMapWithTime(lat_lng_list, radius=5, auto_play=True, position='bottomright', gradient=gradient).add_to(new_york1)\n",
    "\n",
    "    return figure1"
   ]
  },
  {
   "cell_type": "code",
   "execution_count": null,
   "metadata": {},
   "outputs": [],
   "source": [
    "hourly_dist (april_14, 'Monday')"
   ]
  }
 ],
 "metadata": {
  "kernelspec": {
   "display_name": "streamlit",
   "language": "python",
   "name": "python3"
  },
  "language_info": {
   "codemirror_mode": {
    "name": "ipython",
    "version": 3
   },
   "file_extension": ".py",
   "mimetype": "text/x-python",
   "name": "python",
   "nbconvert_exporter": "python",
   "pygments_lexer": "ipython3",
   "version": "3.10.4"
  },
  "orig_nbformat": 4,
  "vscode": {
   "interpreter": {
    "hash": "84e87d28c5bed529ff86c4920d9f833c63e26dbaf53d0d7be4a47960d95f9549"
   }
  }
 },
 "nbformat": 4,
 "nbformat_minor": 2
}
