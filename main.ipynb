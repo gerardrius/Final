{
 "cells": [
  {
   "cell_type": "code",
   "execution_count": 1,
   "metadata": {},
   "outputs": [],
   "source": [
    "# Libraries and data sources:\n",
    "import pandas as pd\n",
    "import numpy as np\n",
    "\n",
    "import seaborn as sns\n",
    "import matplotlib.pyplot as plt\n",
    "import plotly.express as px\n",
    "import folium\n",
    "import folium.plugins\n",
    "from folium import Figure\n",
    "from folium.plugins import HeatMapWithTime\n",
    "from datetime import datetime, timedelta \n",
    "\n",
    "# For real distance\n",
    "import osmnx as ox\n",
    "import networkx as nx\n",
    "\n",
    "import src.cleaning as cleaning\n",
    "import src.visualizations as vis\n",
    "import src.your_trip as trip"
   ]
  },
  {
   "cell_type": "code",
   "execution_count": 5,
   "metadata": {},
   "outputs": [],
   "source": [
    "# Import of the initial Citi Bike trips csv\n",
    "apr_14 = pd.read_csv('../../../Desktop/final_project_data/2014/2014-04 - Citi Bike trip data.csv')"
   ]
  },
  {
   "attachments": {},
   "cell_type": "markdown",
   "metadata": {},
   "source": [
    "# 1.1 Cleaning and Enriching Process"
   ]
  },
  {
   "cell_type": "code",
   "execution_count": null,
   "metadata": {},
   "outputs": [],
   "source": [
    "# Rename columns\n",
    "apr_14 = cleaning.rename_columns(apr_14)\n",
    "\n",
    "#  Displacement\n",
    "apr_14 = cleaning.trip_distance(apr_14)\n",
    "\n",
    "# Hour (start and end)\n",
    "apr_14 = cleaning.get_hour (apr_14)\n",
    "\n",
    "# Date\n",
    "apr_14 = cleaning.get_date (apr_14)\n",
    "\n",
    "# Datetime format for time series\n",
    "apr_14 = cleaning.datetime_format (apr_14)\n",
    "\n",
    "# Month, weekday, weekend\n",
    "apr_14 = cleaning.get_categorical_date (apr_14)\n",
    "\n",
    "# Cleaned and enriched dataframe to CSV\n",
    "apr_14.to_csv('data/april_2014.csv', index=False)\n",
    "april_14 = pd.read_csv('data/april_2014.csv')"
   ]
  },
  {
   "attachments": {},
   "cell_type": "markdown",
   "metadata": {},
   "source": [
    "# 1.2 Truck trips\n",
    "\n",
    "Record all bike movements not attributable to user trips.\n",
    "\n",
    "- Bike ID\n",
    "- Date range\n",
    "- Transported from\n",
    "- Transported to"
   ]
  },
  {
   "cell_type": "code",
   "execution_count": 20,
   "metadata": {},
   "outputs": [],
   "source": [
    "# All bike transfers by trucks for each bike id\n",
    "total_transfers = cleaning.all_transfers (april_14)\n",
    "\n",
    "# Provide desired time format\n",
    "total_transfers = cleaning.datetime_format_trucks (total_transfers)\n",
    "\n",
    "# Save trucks dataframe as csv\n",
    "total_transfers.to_csv('data/truck_transfers.csv', index=False)"
   ]
  },
  {
   "attachments": {},
   "cell_type": "markdown",
   "metadata": {},
   "source": [
    "# 2. Visualizations"
   ]
  },
  {
   "cell_type": "code",
   "execution_count": 30,
   "metadata": {},
   "outputs": [],
   "source": [
    "# Functions defined in source folder, deployed in streamlit app."
   ]
  },
  {
   "attachments": {},
   "cell_type": "markdown",
   "metadata": {},
   "source": [
    "# 3. Your Trip"
   ]
  },
  {
   "cell_type": "code",
   "execution_count": 3,
   "metadata": {},
   "outputs": [
    {
     "name": "stderr",
     "output_type": "stream",
     "text": [
      "/Users/gerardrius/Ironhack/projects/Final/src/cleaning.py:452: FutureWarning: Inferring datetime64[ns] from data containing strings is deprecated and will be removed in a future version. To retain the old behavior explicitly pass Series(data, dtype=datetime64[ns])\n",
      "  result_df = pd.DataFrame({'last_end': last_end, 'ended_at': etime, 'next_start': next_start, 'started_at': stime})\n"
     ]
    }
   ],
   "source": [
    "# Load necessary dataframes\n",
    "trucks = pd.read_csv('data/truck_transfers.csv')\n",
    "april = pd.read_csv('data/april_2014.csv')\n",
    "\n",
    "# Function to get all trips (human and non-human) together\n",
    "ALL_TRIPS = cleaning.concat_all_bike_trips (april)\n",
    "\n",
    "# Save resulting df into a csv file\n",
    "ALL_TRIPS.to_csv('data/all_trips.csv', index = False)"
   ]
  }
 ],
 "metadata": {
  "kernelspec": {
   "display_name": "streamlit",
   "language": "python",
   "name": "python3"
  },
  "language_info": {
   "codemirror_mode": {
    "name": "ipython",
    "version": 3
   },
   "file_extension": ".py",
   "mimetype": "text/x-python",
   "name": "python",
   "nbconvert_exporter": "python",
   "pygments_lexer": "ipython3",
   "version": "3.10.4"
  },
  "orig_nbformat": 4,
  "vscode": {
   "interpreter": {
    "hash": "84e87d28c5bed529ff86c4920d9f833c63e26dbaf53d0d7be4a47960d95f9549"
   }
  }
 },
 "nbformat": 4,
 "nbformat_minor": 2
}
