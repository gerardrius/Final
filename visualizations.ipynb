{
 "cells": [
  {
   "cell_type": "code",
   "execution_count": 4,
   "metadata": {},
   "outputs": [],
   "source": [
    "import pandas as pd\n",
    "import seaborn as sns\n",
    "import matplotlib.pyplot as plt\n",
    "import folium\n",
    "\n",
    "# For real distance\n",
    "import osmnx as ox\n",
    "import networkx as nx\n",
    "\n",
    "\n",
    "import src.cleaning as cleaning\n",
    "import src.visualizations as vis\n",
    "\n",
    "# Maps\n",
    "import folium.plugins\n",
    "from folium import Figure\n",
    "from folium.plugins import HeatMapWithTime"
   ]
  },
  {
   "cell_type": "code",
   "execution_count": 5,
   "metadata": {},
   "outputs": [],
   "source": [
    "april_14 = pd.read_csv('data/april_2014.csv')\n",
    "truck_transfers = pd.read_csv('data/truck_transfers.csv') "
   ]
  },
  {
   "attachments": {},
   "cell_type": "markdown",
   "metadata": {},
   "source": [
    "# TRIP INFO"
   ]
  },
  {
   "cell_type": "code",
   "execution_count": null,
   "metadata": {},
   "outputs": [],
   "source": []
  },
  {
   "attachments": {},
   "cell_type": "markdown",
   "metadata": {},
   "source": [
    "# STATIONS INFO"
   ]
  },
  {
   "cell_type": "code",
   "execution_count": 4,
   "metadata": {},
   "outputs": [],
   "source": [
    "# Lat long list list for Heatmap with time\n",
    "def heatmap_lat_lng_list (df):\n",
    "    map_visualization = df[['start_hour', 'started_at', 'bike_id', 'start_lat', 'start_lng']]\n",
    "    lat_lng_list = []\n",
    "    for i in range(24):\n",
    "        temp=[]\n",
    "        for index, row in map_visualization[map_visualization['start_hour'] == i].iterrows():\n",
    "            temp.append([row['start_lat'],row['start_lng']])\n",
    "            lat_lng_list.append(temp)\n",
    "    return lat_lng_list"
   ]
  },
  {
   "cell_type": "code",
   "execution_count": null,
   "metadata": {},
   "outputs": [],
   "source": [
    "# Plot of the actual Heatmap with time\n",
    "def time_heatmap_plot (lat_lng_lst):\n",
    "    figure1 = Figure(width=850,height=550)\n",
    "    new_york1 = folium.Map(location=[40.712776, -74.005974],zoom_start=12)\n",
    "\n",
    "    figure1.add_child(new_york1)\n",
    "    folium.TileLayer('cartodbpositron').add_to(new_york1)\n",
    "    gradient = {.33: 'white', .66: 'lightblue', 1: 'blue'}\n",
    "\n",
    "    HeatMapWithTime(lat_lng_lst, radius=5, auto_play=True, position='bottomright', gradient=gradient).add_to(new_york1)\n",
    "\n",
    "    return figure1"
   ]
  },
  {
   "cell_type": "code",
   "execution_count": 35,
   "metadata": {},
   "outputs": [],
   "source": [
    "def elveldadelonumelo (date):\n",
    "    a = date[:13].split(' ')\n",
    "    a = a[0].split('-'), a[1]\n",
    "    new_a0 = ('').join(a[0])\n",
    "    a = [new_a0, a[1]]\n",
    "    a = ('').join(a)\n",
    "    return a"
   ]
  },
  {
   "cell_type": "code",
   "execution_count": 12,
   "metadata": {},
   "outputs": [],
   "source": [
    "def testfunct (df):\n",
    "    test_map_viz = df[['start_hour', 'started_at', 'bike_id', 'start_lat', 'start_lng']]\n",
    "\n",
    "    lat_lng_list = []\n",
    "    for i in range(24):\n",
    "        temp=[]\n",
    "        for index, row in test_map_viz[test_map_viz['all_hours_all_days'] == i].iterrows():\n",
    "            temp.append([row['start_lat'],row['start_lng']])\n",
    "        lat_lng_list.append(temp)\n",
    "\n",
    "    figure1 = Figure(width=850,height=550)\n",
    "    new_york1 = folium.Map(location=[40.712776, -74.005974],zoom_start=12)\n",
    "\n",
    "    figure1.add_child(new_york1)\n",
    "    folium.TileLayer('cartodbpositron').add_to(new_york1)\n",
    "    gradient = {.33: 'white', .66: 'lightblue', 1: 'blue'}\n",
    "\n",
    "    HeatMapWithTime(lat_lng_list, radius=5, auto_play=True, position='bottomright', gradient=gradient).add_to(new_york1)\n",
    "\n",
    "    return figure1"
   ]
  },
  {
   "cell_type": "code",
   "execution_count": 2,
   "metadata": {},
   "outputs": [],
   "source": [
    "# testfunct (april_14)"
   ]
  },
  {
   "cell_type": "code",
   "execution_count": 15,
   "metadata": {},
   "outputs": [],
   "source": [
    "test_map_viz = april_14[['start_hour', 'started_at', 'bike_id', 'start_lat', 'start_lng']]"
   ]
  },
  {
   "cell_type": "code",
   "execution_count": 39,
   "metadata": {},
   "outputs": [],
   "source": [
    "lat_lng_list = []\n",
    "for i in range(2014040100, 2014043024):\n",
    "    temp=[]\n",
    "    for index, row in test_map_viz[test_map_viz['all_hours_all_days'] == i].iterrows():\n",
    "        temp.append([row['start_lat'],row['start_lng']])\n",
    "    lat_lng_list.append(temp)"
   ]
  },
  {
   "attachments": {},
   "cell_type": "markdown",
   "metadata": {},
   "source": [
    "# DEMOGRAPHIC INFO"
   ]
  },
  {
   "cell_type": "code",
   "execution_count": null,
   "metadata": {},
   "outputs": [],
   "source": []
  }
 ],
 "metadata": {
  "kernelspec": {
   "display_name": "streamlit",
   "language": "python",
   "name": "python3"
  },
  "language_info": {
   "codemirror_mode": {
    "name": "ipython",
    "version": 3
   },
   "file_extension": ".py",
   "mimetype": "text/x-python",
   "name": "python",
   "nbconvert_exporter": "python",
   "pygments_lexer": "ipython3",
   "version": "3.10.4"
  },
  "orig_nbformat": 4,
  "vscode": {
   "interpreter": {
    "hash": "84e87d28c5bed529ff86c4920d9f833c63e26dbaf53d0d7be4a47960d95f9549"
   }
  }
 },
 "nbformat": 4,
 "nbformat_minor": 2
}
