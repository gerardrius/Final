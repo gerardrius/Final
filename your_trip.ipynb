{
 "cells": [
  {
   "cell_type": "code",
   "execution_count": 1,
   "metadata": {},
   "outputs": [],
   "source": [
    "import pandas as pd\n",
    "import numpy as np\n",
    "from requests import get\n",
    "from bs4 import BeautifulSoup as bs\n",
    "\n",
    "import src.cleaning as cleaning"
   ]
  },
  {
   "cell_type": "code",
   "execution_count": 2,
   "metadata": {},
   "outputs": [],
   "source": [
    "trucks = pd.read_csv('data/truck_transfers.csv')\n",
    "april = pd.read_csv('data/april_2014.csv')"
   ]
  },
  {
   "cell_type": "code",
   "execution_count": 12,
   "metadata": {},
   "outputs": [],
   "source": [
    "# stations = cleaning.stations_coordinates (april)\n",
    "# stations capacity\n",
    "# trucks = cleaning.coordinate_columns (trucks)\n",
    "# trucks = cleaning.truck_trips_coordinates (stations, trucks)\n",
    "# trucks = cleaning.time_difference (trucks)"
   ]
  },
  {
   "cell_type": "code",
   "execution_count": 27,
   "metadata": {},
   "outputs": [
    {
     "name": "stderr",
     "output_type": "stream",
     "text": [
      "/Users/gerardrius/Ironhack/projects/Final/src/cleaning.py:452: FutureWarning: Inferring datetime64[ns] from data containing strings is deprecated and will be removed in a future version. To retain the old behavior explicitly pass Series(data, dtype=datetime64[ns])\n",
      "  result_df = pd.DataFrame({'last_end': last_end, 'ended_at': etime, 'next_start': next_start, 'started_at': stime})\n",
      "/Users/gerardrius/Ironhack/projects/Final/src/cleaning.py:452: FutureWarning: Inferring datetime64[ns] from data containing strings is deprecated and will be removed in a future version. To retain the old behavior explicitly pass Series(data, dtype=datetime64[ns])\n",
      "  result_df = pd.DataFrame({'last_end': last_end, 'ended_at': etime, 'next_start': next_start, 'started_at': stime})\n",
      "/Users/gerardrius/Ironhack/projects/Final/src/cleaning.py:452: FutureWarning: Inferring datetime64[ns] from data containing strings is deprecated and will be removed in a future version. To retain the old behavior explicitly pass Series(data, dtype=datetime64[ns])\n",
      "  result_df = pd.DataFrame({'last_end': last_end, 'ended_at': etime, 'next_start': next_start, 'started_at': stime})\n",
      "/Users/gerardrius/Ironhack/projects/Final/src/cleaning.py:452: FutureWarning: Inferring datetime64[ns] from data containing strings is deprecated and will be removed in a future version. To retain the old behavior explicitly pass Series(data, dtype=datetime64[ns])\n",
      "  result_df = pd.DataFrame({'last_end': last_end, 'ended_at': etime, 'next_start': next_start, 'started_at': stime})\n",
      "/Users/gerardrius/Ironhack/projects/Final/src/cleaning.py:452: FutureWarning: Inferring datetime64[ns] from data containing strings is deprecated and will be removed in a future version. To retain the old behavior explicitly pass Series(data, dtype=datetime64[ns])\n",
      "  result_df = pd.DataFrame({'last_end': last_end, 'ended_at': etime, 'next_start': next_start, 'started_at': stime})\n",
      "/Users/gerardrius/Ironhack/projects/Final/src/cleaning.py:452: FutureWarning: Inferring datetime64[ns] from data containing strings is deprecated and will be removed in a future version. To retain the old behavior explicitly pass Series(data, dtype=datetime64[ns])\n",
      "  result_df = pd.DataFrame({'last_end': last_end, 'ended_at': etime, 'next_start': next_start, 'started_at': stime})\n",
      "/Users/gerardrius/Ironhack/projects/Final/src/cleaning.py:452: FutureWarning: Inferring datetime64[ns] from data containing strings is deprecated and will be removed in a future version. To retain the old behavior explicitly pass Series(data, dtype=datetime64[ns])\n",
      "  result_df = pd.DataFrame({'last_end': last_end, 'ended_at': etime, 'next_start': next_start, 'started_at': stime})\n"
     ]
    }
   ],
   "source": [
    "df_list = []\n",
    "for bike_id in april.bike_id.unique().tolist():\n",
    "    df = cleaning.bike_human_truck_trips(april, bike_id)\n",
    "    df_list.append(df)"
   ]
  },
  {
   "cell_type": "code",
   "execution_count": 28,
   "metadata": {},
   "outputs": [],
   "source": [
    "ALL_TRIPS = pd.concat(df_list, ignore_index = True)"
   ]
  },
  {
   "cell_type": "code",
   "execution_count": 29,
   "metadata": {},
   "outputs": [
    {
     "data": {
      "text/html": [
       "<div>\n",
       "<style scoped>\n",
       "    .dataframe tbody tr th:only-of-type {\n",
       "        vertical-align: middle;\n",
       "    }\n",
       "\n",
       "    .dataframe tbody tr th {\n",
       "        vertical-align: top;\n",
       "    }\n",
       "\n",
       "    .dataframe thead th {\n",
       "        text-align: right;\n",
       "    }\n",
       "</style>\n",
       "<table border=\"1\" class=\"dataframe\">\n",
       "  <thead>\n",
       "    <tr style=\"text-align: right;\">\n",
       "      <th></th>\n",
       "      <th>last_end</th>\n",
       "      <th>ended_at</th>\n",
       "      <th>next_start</th>\n",
       "      <th>started_at</th>\n",
       "      <th>time_difference</th>\n",
       "      <th>bike_id</th>\n",
       "    </tr>\n",
       "  </thead>\n",
       "  <tbody>\n",
       "    <tr>\n",
       "      <th>0</th>\n",
       "      <td>2008.0</td>\n",
       "      <td>2014-04-01 00:09:25.000</td>\n",
       "      <td>2008.0</td>\n",
       "      <td>2014-04-01 07:41:30.000</td>\n",
       "      <td>0 days 07:32:05</td>\n",
       "      <td>21062.0</td>\n",
       "    </tr>\n",
       "    <tr>\n",
       "      <th>1</th>\n",
       "      <td>224.0</td>\n",
       "      <td>2014-04-01 07:48:08.000</td>\n",
       "      <td>224.0</td>\n",
       "      <td>2014-04-01 08:54:32.000</td>\n",
       "      <td>0 days 01:06:24</td>\n",
       "      <td>21062.0</td>\n",
       "    </tr>\n",
       "    <tr>\n",
       "      <th>2</th>\n",
       "      <td>360.0</td>\n",
       "      <td>2014-04-01 08:58:20.000</td>\n",
       "      <td>360.0</td>\n",
       "      <td>2014-04-01 15:03:40.800</td>\n",
       "      <td>0 days 06:05:20.800000</td>\n",
       "      <td>21062.0</td>\n",
       "    </tr>\n",
       "    <tr>\n",
       "      <th>3</th>\n",
       "      <td>306.0</td>\n",
       "      <td>2014-04-02 09:19:43.200</td>\n",
       "      <td>306.0</td>\n",
       "      <td>2014-04-02 15:25:04.000</td>\n",
       "      <td>0 days 06:05:20.800000</td>\n",
       "      <td>21062.0</td>\n",
       "    </tr>\n",
       "    <tr>\n",
       "      <th>4</th>\n",
       "      <td>147.0</td>\n",
       "      <td>2014-04-02 15:32:24.000</td>\n",
       "      <td>147.0</td>\n",
       "      <td>2014-04-02 17:22:38.000</td>\n",
       "      <td>0 days 01:50:14</td>\n",
       "      <td>21062.0</td>\n",
       "    </tr>\n",
       "    <tr>\n",
       "      <th>...</th>\n",
       "      <td>...</td>\n",
       "      <td>...</td>\n",
       "      <td>...</td>\n",
       "      <td>...</td>\n",
       "      <td>...</td>\n",
       "      <td>...</td>\n",
       "    </tr>\n",
       "    <tr>\n",
       "      <th>741298</th>\n",
       "      <td>305.0</td>\n",
       "      <td>2014-04-29 08:39:25.000</td>\n",
       "      <td>305.0</td>\n",
       "      <td>2014-04-29 09:01:35.000</td>\n",
       "      <td>0 days 00:22:10</td>\n",
       "      <td>19206.0</td>\n",
       "    </tr>\n",
       "    <tr>\n",
       "      <th>741299</th>\n",
       "      <td>430.0</td>\n",
       "      <td>2014-04-29 18:42:23.000</td>\n",
       "      <td>430.0</td>\n",
       "      <td>2014-04-29 19:00:09.000</td>\n",
       "      <td>0 days 00:17:46</td>\n",
       "      <td>19025.0</td>\n",
       "    </tr>\n",
       "    <tr>\n",
       "      <th>741300</th>\n",
       "      <td>242.0</td>\n",
       "      <td>2014-04-29 19:05:58.000</td>\n",
       "      <td>242.0</td>\n",
       "      <td>2014-04-29 20:01:48.000</td>\n",
       "      <td>0 days 00:55:50</td>\n",
       "      <td>19025.0</td>\n",
       "    </tr>\n",
       "    <tr>\n",
       "      <th>741301</th>\n",
       "      <td>324.0</td>\n",
       "      <td>2014-04-29 20:09:57.000</td>\n",
       "      <td>324.0</td>\n",
       "      <td>2014-04-29 20:32:11.000</td>\n",
       "      <td>0 days 00:22:14</td>\n",
       "      <td>19025.0</td>\n",
       "    </tr>\n",
       "    <tr>\n",
       "      <th>741302</th>\n",
       "      <td>399.0</td>\n",
       "      <td>2014-04-29 20:39:13.000</td>\n",
       "      <td>399.0</td>\n",
       "      <td>2014-04-29 21:18:48.000</td>\n",
       "      <td>0 days 00:39:35</td>\n",
       "      <td>19025.0</td>\n",
       "    </tr>\n",
       "  </tbody>\n",
       "</table>\n",
       "<p>741303 rows × 6 columns</p>\n",
       "</div>"
      ],
      "text/plain": [
       "        last_end                ended_at  next_start              started_at  \\\n",
       "0         2008.0 2014-04-01 00:09:25.000      2008.0 2014-04-01 07:41:30.000   \n",
       "1          224.0 2014-04-01 07:48:08.000       224.0 2014-04-01 08:54:32.000   \n",
       "2          360.0 2014-04-01 08:58:20.000       360.0 2014-04-01 15:03:40.800   \n",
       "3          306.0 2014-04-02 09:19:43.200       306.0 2014-04-02 15:25:04.000   \n",
       "4          147.0 2014-04-02 15:32:24.000       147.0 2014-04-02 17:22:38.000   \n",
       "...          ...                     ...         ...                     ...   \n",
       "741298     305.0 2014-04-29 08:39:25.000       305.0 2014-04-29 09:01:35.000   \n",
       "741299     430.0 2014-04-29 18:42:23.000       430.0 2014-04-29 19:00:09.000   \n",
       "741300     242.0 2014-04-29 19:05:58.000       242.0 2014-04-29 20:01:48.000   \n",
       "741301     324.0 2014-04-29 20:09:57.000       324.0 2014-04-29 20:32:11.000   \n",
       "741302     399.0 2014-04-29 20:39:13.000       399.0 2014-04-29 21:18:48.000   \n",
       "\n",
       "              time_difference  bike_id  \n",
       "0             0 days 07:32:05  21062.0  \n",
       "1             0 days 01:06:24  21062.0  \n",
       "2      0 days 06:05:20.800000  21062.0  \n",
       "3      0 days 06:05:20.800000  21062.0  \n",
       "4             0 days 01:50:14  21062.0  \n",
       "...                       ...      ...  \n",
       "741298        0 days 00:22:10  19206.0  \n",
       "741299        0 days 00:17:46  19025.0  \n",
       "741300        0 days 00:55:50  19025.0  \n",
       "741301        0 days 00:22:14  19025.0  \n",
       "741302        0 days 00:39:35  19025.0  \n",
       "\n",
       "[741303 rows x 6 columns]"
      ]
     },
     "execution_count": 29,
     "metadata": {},
     "output_type": "execute_result"
    }
   ],
   "source": [
    "ALL_TRIPS"
   ]
  },
  {
   "cell_type": "code",
   "execution_count": null,
   "metadata": {},
   "outputs": [],
   "source": []
  }
 ],
 "metadata": {
  "kernelspec": {
   "display_name": "streamlit",
   "language": "python",
   "name": "python3"
  },
  "language_info": {
   "codemirror_mode": {
    "name": "ipython",
    "version": 3
   },
   "file_extension": ".py",
   "mimetype": "text/x-python",
   "name": "python",
   "nbconvert_exporter": "python",
   "pygments_lexer": "ipython3",
   "version": "3.10.4"
  },
  "orig_nbformat": 4,
  "vscode": {
   "interpreter": {
    "hash": "84e87d28c5bed529ff86c4920d9f833c63e26dbaf53d0d7be4a47960d95f9549"
   }
  }
 },
 "nbformat": 4,
 "nbformat_minor": 2
}
